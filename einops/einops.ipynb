{
 "cells": [
  {
   "cell_type": "code",
   "execution_count": 1,
   "metadata": {},
   "outputs": [],
   "source": [
    "from einops import rearrange, repeat, reduce\n",
    "import torch"
   ]
  },
  {
   "cell_type": "markdown",
   "metadata": {},
   "source": [
    "<h4>1) Transpose</h4>"
   ]
  },
  {
   "cell_type": "code",
   "execution_count": 2,
   "metadata": {},
   "outputs": [],
   "source": [
    "y_torch = torch.randn(2,3,1,4)\n",
    "y_einops = y_torch"
   ]
  },
  {
   "cell_type": "code",
   "execution_count": 3,
   "metadata": {},
   "outputs": [
    {
     "data": {
      "text/plain": [
       "tensor([[[[-0.3177, -0.2416, -1.3253,  0.1360]],\n",
       "\n",
       "         [[-0.2222, -0.0660, -0.0455, -0.3678]],\n",
       "\n",
       "         [[ 0.1957, -2.1639, -0.2480,  0.5044]]],\n",
       "\n",
       "\n",
       "        [[[-1.3404,  0.2631, -0.0520, -1.4049]],\n",
       "\n",
       "         [[ 0.4965, -0.8957, -0.0861,  0.6155]],\n",
       "\n",
       "         [[-0.6346, -1.1928,  0.3877,  1.6353]]]])"
      ]
     },
     "execution_count": 3,
     "metadata": {},
     "output_type": "execute_result"
    }
   ],
   "source": [
    "y_torch"
   ]
  },
  {
   "cell_type": "code",
   "execution_count": 4,
   "metadata": {},
   "outputs": [
    {
     "data": {
      "text/plain": [
       "tensor([[[[-0.3177],\n",
       "          [-1.3404]],\n",
       "\n",
       "         [[-0.2222],\n",
       "          [ 0.4965]],\n",
       "\n",
       "         [[ 0.1957],\n",
       "          [-0.6346]]],\n",
       "\n",
       "\n",
       "        [[[-0.2416],\n",
       "          [ 0.2631]],\n",
       "\n",
       "         [[-0.0660],\n",
       "          [-0.8957]],\n",
       "\n",
       "         [[-2.1639],\n",
       "          [-1.1928]]],\n",
       "\n",
       "\n",
       "        [[[-1.3253],\n",
       "          [-0.0520]],\n",
       "\n",
       "         [[-0.0455],\n",
       "          [-0.0861]],\n",
       "\n",
       "         [[-0.2480],\n",
       "          [ 0.3877]]],\n",
       "\n",
       "\n",
       "        [[[ 0.1360],\n",
       "          [-1.4049]],\n",
       "\n",
       "         [[-0.3678],\n",
       "          [ 0.6155]],\n",
       "\n",
       "         [[ 0.5044],\n",
       "          [ 1.6353]]]])"
      ]
     },
     "execution_count": 4,
     "metadata": {},
     "output_type": "execute_result"
    }
   ],
   "source": [
    "y_torch = y_torch.permute(3,1,0,2)\n",
    "y_torch"
   ]
  },
  {
   "cell_type": "code",
   "execution_count": 5,
   "metadata": {},
   "outputs": [],
   "source": [
    "y_einops = rearrange(y_einops, 'b t c h -> h t b c')"
   ]
  },
  {
   "cell_type": "code",
   "execution_count": 6,
   "metadata": {},
   "outputs": [
    {
     "data": {
      "text/plain": [
       "tensor([[[[-0.3177],\n",
       "          [-1.3404]],\n",
       "\n",
       "         [[-0.2222],\n",
       "          [ 0.4965]],\n",
       "\n",
       "         [[ 0.1957],\n",
       "          [-0.6346]]],\n",
       "\n",
       "\n",
       "        [[[-0.2416],\n",
       "          [ 0.2631]],\n",
       "\n",
       "         [[-0.0660],\n",
       "          [-0.8957]],\n",
       "\n",
       "         [[-2.1639],\n",
       "          [-1.1928]]],\n",
       "\n",
       "\n",
       "        [[[-1.3253],\n",
       "          [-0.0520]],\n",
       "\n",
       "         [[-0.0455],\n",
       "          [-0.0861]],\n",
       "\n",
       "         [[-0.2480],\n",
       "          [ 0.3877]]],\n",
       "\n",
       "\n",
       "        [[[ 0.1360],\n",
       "          [-1.4049]],\n",
       "\n",
       "         [[-0.3678],\n",
       "          [ 0.6155]],\n",
       "\n",
       "         [[ 0.5044],\n",
       "          [ 1.6353]]]])"
      ]
     },
     "execution_count": 6,
     "metadata": {},
     "output_type": "execute_result"
    }
   ],
   "source": [
    "y_einops"
   ]
  },
  {
   "cell_type": "markdown",
   "metadata": {},
   "source": [
    "<h5>1.2) Numpy</h5>"
   ]
  },
  {
   "cell_type": "code",
   "execution_count": 7,
   "metadata": {},
   "outputs": [],
   "source": [
    "# Examples are given for numpy. This code also setups ipython/jupyter\n",
    "# so that numpy arrays in the output are displayed as images\n",
    "import numpy as np\n",
    "from diplay_image import display_np_arrays_as_images\n",
    "display_np_arrays_as_images()"
   ]
  },
  {
   "cell_type": "code",
   "execution_count": 8,
   "metadata": {},
   "outputs": [],
   "source": [
    "ims = np.load('docs/test_images.npy', allow_pickle=False)"
   ]
  },
  {
   "cell_type": "code",
   "execution_count": 9,
   "metadata": {},
   "outputs": [
    {
     "data": {
      "image/png": "[encoded data removed]",
      "text/plain": []
     },
     "execution_count": 9,
     "metadata": {},
     "output_type": "execute_result"
    }
   ],
   "source": [
    "rearrange(ims[0], 'h w c -> w h c')"
   ]
  },
  {
   "cell_type": "markdown",
   "metadata": {},
   "source": [
    "<h5>Composition of Axes</h5>"
   ]
  },
  {
   "cell_type": "code",
   "execution_count": 10,
   "metadata": {},
   "outputs": [
    {
     "data": {
      "image/png": "[encoded data removed]",
      "text/plain": []
     },
     "execution_count": 10,
     "metadata": {},
     "output_type": "execute_result"
    }
   ],
   "source": [
    "rearrange(ims, 'b h w c -> h (b w) c')"
   ]
  },
  {
   "cell_type": "code",
   "execution_count": 11,
   "metadata": {},
   "outputs": [
    {
     "data": {
      "text/plain": [
       "(165888,)"
      ]
     },
     "execution_count": 11,
     "metadata": {},
     "output_type": "execute_result"
    }
   ],
   "source": [
    "#flattening\n",
    "rearrange(ims, 'b h w c -> (h b w c)').shape"
   ]
  },
  {
   "cell_type": "markdown",
   "metadata": {},
   "source": [
    "<h5>Decomposition of axis</h5>"
   ]
  },
  {
   "cell_type": "code",
   "execution_count": 12,
   "metadata": {},
   "outputs": [
    {
     "data": {
      "image/png": "[encoded data removed]",
      "text/plain": []
     },
     "execution_count": 12,
     "metadata": {},
     "output_type": "execute_result"
    }
   ],
   "source": [
    "#decomposing the batch dimension\n",
    "rearrange(ims, '(b1 b2) h w c -> (b1 h) (b2 w) c', b1=3)"
   ]
  },
  {
   "cell_type": "code",
   "execution_count": 13,
   "metadata": {},
   "outputs": [
    {
     "data": {
      "image/png": "[encoded data removed]",
      "text/plain": []
     },
     "execution_count": 13,
     "metadata": {},
     "output_type": "execute_result"
    }
   ],
   "source": [
    "rearrange(ims, '(b1 b2) h w c -> (b1 h) (b2 w) c', b1=2)"
   ]
  },
  {
   "cell_type": "code",
   "execution_count": 14,
   "metadata": {},
   "outputs": [
    {
     "data": {
      "image/png": "[encoded data removed]",
      "text/plain": []
     },
     "execution_count": 14,
     "metadata": {},
     "output_type": "execute_result"
    }
   ],
   "source": [
    "rearrange(ims, 'b h (w w1) c -> (w1 h) (b w) c', w1=2)"
   ]
  },
  {
   "cell_type": "markdown",
   "metadata": {},
   "source": [
    "<h5>Order of axes matters</h5>"
   ]
  },
  {
   "cell_type": "code",
   "execution_count": 15,
   "metadata": {},
   "outputs": [
    {
     "data": {
      "image/png": "[encoded data removed]",
      "text/plain": []
     },
     "execution_count": 15,
     "metadata": {},
     "output_type": "execute_result"
    }
   ],
   "source": [
    "rearrange(ims, 'b h w c -> h (b w) c')"
   ]
  },
  {
   "cell_type": "code",
   "execution_count": 16,
   "metadata": {},
   "outputs": [
    {
     "data": {
      "image/png": "[encoded data removed]",
      "text/plain": []
     },
     "execution_count": 16,
     "metadata": {},
     "output_type": "execute_result"
    }
   ],
   "source": [
    "# order of axes in composition is different\n",
    "# rule is just as for digits in the number: leftmost digit is the most significant, \n",
    "# while neighboring numbers differ in the rightmost axis.\n",
    "\n",
    "# you can also think of this as lexicographic sort\n",
    "rearrange(ims, 'b h w c -> h (w b) c')"
   ]
  },
  {
   "cell_type": "code",
   "execution_count": 17,
   "metadata": {},
   "outputs": [
    {
     "data": {
      "image/png": "[encoded data removed]",
      "text/plain": []
     },
     "execution_count": 17,
     "metadata": {},
     "output_type": "execute_result"
    }
   ],
   "source": [
    "rearrange(ims, '(b1 b2) h w c -> h (b1 b2 w) c', b1=2)"
   ]
  },
  {
   "cell_type": "code",
   "execution_count": 18,
   "metadata": {},
   "outputs": [
    {
     "data": {
      "image/png": "[encoded data removed]",
      "text/plain": []
     },
     "execution_count": 18,
     "metadata": {},
     "output_type": "execute_result"
    }
   ],
   "source": [
    "rearrange(ims, '(b1 b2) h w c -> h (b2 b1 w) c', b1=2)"
   ]
  },
  {
   "cell_type": "code",
   "execution_count": 19,
   "metadata": {},
   "outputs": [
    {
     "data": {
      "image/png": "[encoded data removed]",
      "text/plain": []
     },
     "execution_count": 19,
     "metadata": {},
     "output_type": "execute_result"
    }
   ],
   "source": [
    "rearrange(ims, '(b1 b2) h w c -> h (b2 w b1) c', b1=2)"
   ]
  },
  {
   "cell_type": "code",
   "execution_count": 20,
   "metadata": {},
   "outputs": [
    {
     "data": {
      "image/png": "[encoded data removed]",
      "text/plain": []
     },
     "execution_count": 20,
     "metadata": {},
     "output_type": "execute_result"
    }
   ],
   "source": [
    "rearrange(ims, '(b1 b2) h w c -> h (w b2 b1) c', b1=2)"
   ]
  },
  {
   "cell_type": "markdown",
   "metadata": {},
   "source": [
    "<h5>2) Reduce</h5>\n",
    "<h6>You don need to guess the axis like in torch or numpy</>\n",
    "<h6>Basics</h6>"
   ]
  },
  {
   "cell_type": "code",
   "execution_count": 21,
   "metadata": {},
   "outputs": [],
   "source": [
    "t = torch.tensor([\n",
    "    [1,1,1,1],\n",
    "    [2,2,2,4],\n",
    "    [3,3,3,3]\n",
    "],dtype=torch.float32)"
   ]
  },
  {
   "cell_type": "code",
   "execution_count": 22,
   "metadata": {},
   "outputs": [
    {
     "data": {
      "text/plain": [
       "tensor([[1., 1., 1., 1.],\n",
       "        [2., 2., 2., 4.],\n",
       "        [3., 3., 3., 3.]])"
      ]
     },
     "execution_count": 22,
     "metadata": {},
     "output_type": "execute_result"
    }
   ],
   "source": [
    "t"
   ]
  },
  {
   "cell_type": "code",
   "execution_count": 23,
   "metadata": {},
   "outputs": [
    {
     "data": {
      "text/plain": [
       "tensor([ 4., 10., 12.])"
      ]
     },
     "execution_count": 23,
     "metadata": {},
     "output_type": "execute_result"
    }
   ],
   "source": [
    "t.sum(-1)\n"
   ]
  },
  {
   "cell_type": "code",
   "execution_count": 24,
   "metadata": {},
   "outputs": [
    {
     "data": {
      "text/plain": [
       "torch.return_types.max(\n",
       "values=tensor([1., 4., 3.]),\n",
       "indices=tensor([0, 3, 0]))"
      ]
     },
     "execution_count": 24,
     "metadata": {},
     "output_type": "execute_result"
    }
   ],
   "source": [
    "t.max()\n",
    "t.max(dim=0) # max accross the row dimension\n",
    "t.max(dim=1) # max accross the col dimension"
   ]
  },
  {
   "cell_type": "code",
   "execution_count": 25,
   "metadata": {},
   "outputs": [
    {
     "data": {
      "text/plain": [
       "tensor([2.0000, 2.0000, 2.0000, 2.6667])"
      ]
     },
     "execution_count": 25,
     "metadata": {},
     "output_type": "execute_result"
    }
   ],
   "source": [
    "t.mean()\n",
    "t.mean(dim=0)"
   ]
  },
  {
   "cell_type": "code",
   "execution_count": 26,
   "metadata": {},
   "outputs": [
    {
     "data": {
      "text/plain": [
       "(tensor([11.0000, 11.6667]), tensor([11.0000, 11.6667]), 3)"
      ]
     },
     "execution_count": 26,
     "metadata": {},
     "output_type": "execute_result"
    }
   ],
   "source": [
    "X = torch.tensor([[25., 2],[5, 26],[3,7]])\n",
    "s = len(X[:, 0])\n",
    "rs = X.sum(dim=0)\n",
    "m = rs/s\n",
    "X.mean(axis=0), m, s #mean accross row dimension"
   ]
  },
  {
   "cell_type": "code",
   "execution_count": 27,
   "metadata": {},
   "outputs": [],
   "source": [
    "x = torch.randn(3,4,4,5)"
   ]
  },
  {
   "cell_type": "code",
   "execution_count": 28,
   "metadata": {},
   "outputs": [
    {
     "data": {
      "text/plain": [
       "tensor([[[ 0.5556, -0.1317, -0.4134,  0.0062,  0.9118],\n",
       "         [ 0.2206, -0.2148,  0.0364,  0.5067, -0.5229],\n",
       "         [ 0.2301,  0.1636,  0.1812, -0.3748, -0.3013],\n",
       "         [-0.7980,  0.0348, -0.7479,  0.2239,  0.3199]],\n",
       "\n",
       "        [[-0.6459, -0.3025, -0.8106,  0.1627,  0.1167],\n",
       "         [-0.1047, -1.2098, -0.5519,  0.1353,  0.1313],\n",
       "         [ 0.0096, -0.5764, -0.6660,  0.2218, -0.2947],\n",
       "         [ 0.1321, -0.5427,  0.5790,  0.5339, -0.5784]],\n",
       "\n",
       "        [[-0.3415, -0.3785, -0.3709, -0.1671,  0.4113],\n",
       "         [-0.6340,  0.0539,  0.2657,  0.0877, -0.6075],\n",
       "         [-0.5780,  0.1751, -0.0388, -0.2336,  0.0428],\n",
       "         [ 0.6418, -0.7458, -0.3746,  0.2102,  0.7062]]])"
      ]
     },
     "execution_count": 28,
     "metadata": {},
     "output_type": "execute_result"
    }
   ],
   "source": [
    "x.mean(1)"
   ]
  },
  {
   "cell_type": "code",
   "execution_count": 29,
   "metadata": {},
   "outputs": [
    {
     "data": {
      "text/plain": [
       "tensor(11.3333)"
      ]
     },
     "execution_count": 29,
     "metadata": {},
     "output_type": "execute_result"
    }
   ],
   "source": [
    "#averaing over the channel dimension\n",
    "\n",
    "reduce(X, 'n m -> m', 'mean') #mean accross row dimension\n",
    "reduce(X, 'n m -> n', 'mean') #mean accross col dimension\n",
    "reduce(X, 'n m -> ', 'mean') #mean accross all dimension"
   ]
  },
  {
   "cell_type": "code",
   "execution_count": 30,
   "metadata": {},
   "outputs": [
    {
     "data": {
      "text/plain": [
       "tensor([11.3333, 11.3333])"
      ]
     },
     "execution_count": 30,
     "metadata": {},
     "output_type": "execute_result"
    }
   ],
   "source": [
    "Y = torch.tensor([[[25., 2],[5, 26],[3,7]],[[25., 2],[5, 26],[3,7]]])\n",
    "reduce(Y, 'b t c -> b', 'mean') # mean over time and channel dimension"
   ]
  },
  {
   "cell_type": "code",
   "execution_count": 31,
   "metadata": {},
   "outputs": [
    {
     "data": {
      "image/png": "[encoded data removed]",
      "text/plain": []
     },
     "execution_count": 31,
     "metadata": {},
     "output_type": "execute_result"
    }
   ],
   "source": [
    "reduce(ims, 'b h w c -> h w', 'min')"
   ]
  },
  {
   "cell_type": "code",
   "execution_count": 32,
   "metadata": {},
   "outputs": [
    {
     "data": {
      "text/plain": [
       "(48, 288, 3)"
      ]
     },
     "execution_count": 32,
     "metadata": {},
     "output_type": "execute_result"
    }
   ],
   "source": [
    "# this is mean-pooling with 2x2 kernel\n",
    "# image is split into 2x2 patches, each patch is averaged\n",
    "reduce(ims, 'b (h h2) (w w2) c -> h (b w) c', 'mean', h2=2, w2=2).shape"
   ]
  },
  {
   "cell_type": "code",
   "execution_count": 33,
   "metadata": {},
   "outputs": [
    {
     "data": {
      "text/plain": [
       "(48, 288, 3)"
      ]
     },
     "execution_count": 33,
     "metadata": {},
     "output_type": "execute_result"
    }
   ],
   "source": [
    "reduce(ims, 'b (h h2) (w w2) c -> h (b w) c', 'max', h2=2, w2=2).shape"
   ]
  },
  {
   "cell_type": "code",
   "execution_count": 34,
   "metadata": {},
   "outputs": [
    {
     "data": {
      "image/png": "[encoded data removed]",
      "text/plain": []
     },
     "execution_count": 34,
     "metadata": {},
     "output_type": "execute_result"
    }
   ],
   "source": [
    "# yet another example. Can you compute result shape?\n",
    "reduce(ims, '(b1 b2) h w c -> (b2 h) (b1 w)', 'mean', b1=2)"
   ]
  },
  {
   "cell_type": "markdown",
   "metadata": {},
   "source": [
    "<h4>Stack and concatenate</h4>"
   ]
  },
  {
   "cell_type": "code",
   "execution_count": 35,
   "metadata": {},
   "outputs": [
    {
     "name": "stdout",
     "output_type": "stream",
     "text": [
      "<array of shape (96, 96, 6, 3)>\n"
     ]
    },
    {
     "data": {
      "image/png": "[encoded data removed]",
      "text/plain": []
     },
     "execution_count": 35,
     "metadata": {},
     "output_type": "execute_result"
    }
   ],
   "source": [
    "# but new axis can appear in the other place:\n",
    "rearrange(ims, 'b h w c -> h w b c')"
   ]
  },
  {
   "cell_type": "code",
   "execution_count": 44,
   "metadata": {},
   "outputs": [
    {
     "data": {
      "text/plain": [
       "tensor([[[25.,  2.],\n",
       "         [ 5., 26.],\n",
       "         [ 3.,  7.]],\n",
       "\n",
       "        [[25.,  2.],\n",
       "         [ 5., 26.],\n",
       "         [ 3.,  7.]]])"
      ]
     },
     "execution_count": 44,
     "metadata": {},
     "output_type": "execute_result"
    }
   ],
   "source": [
    "Y"
   ]
  },
  {
   "cell_type": "code",
   "execution_count": 48,
   "metadata": {},
   "outputs": [
    {
     "data": {
      "text/plain": [
       "tensor([[[25.,  5.,  3.],\n",
       "         [ 2., 26.,  7.]],\n",
       "\n",
       "        [[25.,  5.,  3.],\n",
       "         [ 2., 26.,  7.]]])"
      ]
     },
     "execution_count": 48,
     "metadata": {},
     "output_type": "execute_result"
    }
   ],
   "source": [
    "\n",
    "rearrange(Y, 'b h w -> b w h')"
   ]
  },
  {
   "cell_type": "code",
   "execution_count": 55,
   "metadata": {},
   "outputs": [
    {
     "name": "stdout",
     "output_type": "stream",
     "text": [
      "[[[25.  2.]\n",
      "  [ 5. 26.]\n",
      "  [ 3.  7.]]\n",
      "\n",
      " [[25.  2.]\n",
      "  [ 5. 26.]\n",
      "  [ 3.  7.]]]\n"
     ]
    }
   ],
   "source": [
    "print(np.stack(Y, axis=0))"
   ]
  },
  {
   "cell_type": "markdown",
   "metadata": {},
   "source": [
    "<h4>Addition or removal of axes</h4>"
   ]
  },
  {
   "cell_type": "code",
   "execution_count": 58,
   "metadata": {},
   "outputs": [
    {
     "data": {
      "image/png": "[encoded data removed]",
      "text/plain": []
     },
     "execution_count": 58,
     "metadata": {},
     "output_type": "execute_result"
    }
   ],
   "source": [
    "# compute max in each image individually, then show a difference \n",
    "x = reduce(ims, 'b h w c -> b () () c', 'max') - ims\n",
    "rearrange(x, 'b h w c -> h (b w) c')"
   ]
  },
  {
   "cell_type": "code",
   "execution_count": 59,
   "metadata": {},
   "outputs": [
    {
     "name": "stdout",
     "output_type": "stream",
     "text": [
      "(6, 1, 96, 96, 1, 3)\n",
      "(6, 96, 96, 3)\n"
     ]
    }
   ],
   "source": [
    "x = rearrange(ims, 'b h w c -> b 1 h w 1 c') # functionality of numpy.expand_dims\n",
    "print(x.shape)\n",
    "print(rearrange(x, 'b 1 h w 1 c -> b h w c').shape) # functionality of numpy.squeeze"
   ]
  },
  {
   "cell_type": "markdown",
   "metadata": {},
   "source": [
    "<h4>Repeating elements</h4>"
   ]
  },
  {
   "cell_type": "code",
   "execution_count": 62,
   "metadata": {},
   "outputs": [
    {
     "data": {
      "image/png": "[encoded data removed]",
      "text/plain": []
     },
     "execution_count": 62,
     "metadata": {},
     "output_type": "execute_result"
    }
   ],
   "source": [
    "repeat(ims[0], 'h w c -> h (na w) c', na=6)"
   ]
  }
 ],
 "metadata": {
  "kernelspec": {
   "display_name": "base",
   "language": "python",
   "name": "python3"
  },
  "language_info": {
   "codemirror_mode": {
    "name": "ipython",
    "version": 3
   },
   "file_extension": ".py",
   "mimetype": "text/x-python",
   "name": "python",
   "nbconvert_exporter": "python",
   "pygments_lexer": "ipython3",
   "version": "3.9.12"
  },
  "orig_nbformat": 4
 },
 "nbformat": 4,
 "nbformat_minor": 2
}
