{
 "cells": [
  {
   "cell_type": "code",
   "execution_count": 1,
   "metadata": {},
   "outputs": [],
   "source": [
    "from fastai.callback.hook import *\n",
    "from fastbook import *\n",
    "from fastai.vision.all import *\n",
    "import fastbook\n",
    "import torch.nn as nn\n",
    "fastbook.setup_book()"
   ]
  },
  {
   "cell_type": "markdown",
   "metadata": {},
   "source": [
    "<h3><b>Diffusion Models (DDPM)</b></h3>"
   ]
  },
  {
   "cell_type": "markdown",
   "metadata": {},
   "source": [
    "<h5><b>1) U-Net</b></h5>"
   ]
  },
  {
   "cell_type": "markdown",
   "metadata": {},
   "source": [
    "<img src='../../docs/diffusion/unet.png' />"
   ]
  },
  {
   "cell_type": "markdown",
   "metadata": {},
   "source": [
    "<h5><b>1.1) Double Convolution</b></h5>"
   ]
  },
  {
   "cell_type": "code",
   "execution_count": 2,
   "metadata": {},
   "outputs": [],
   "source": [
    "class DoubleConv(nn.Module):\n",
    "    def __init__(self, ics, ocs, mcs=None, ks=3):\n",
    "        super().__init__()\n",
    "        if not mcs:\n",
    "            mcs = ocs\n",
    "        self.ks = ks\n",
    "        self.dbc = nn.Sequential(\n",
    "            nn.Conv2d(ics, mcs, kernel_size=ks, padding=1, bias=False),\n",
    "            nn.BatchNorm2d(mcs),            \n",
    "            nn.ReLU(inplace=True),\n",
    "            nn.Conv2d(mcs, ocs, kernel_size=ks, padding=1, bias=False),\n",
    "            nn.BatchNorm2d(ocs),\n",
    "            nn.ReLU(inplace=True)\n",
    "        )\n",
    "\n",
    "    def forward(self, x): return self.dbc(x)\n",
    "\n"
   ]
  },
  {
   "cell_type": "markdown",
   "metadata": {},
   "source": [
    "<h5><b>1.2) Down Scale Convolution</b></h6>"
   ]
  },
  {
   "cell_type": "code",
   "execution_count": 3,
   "metadata": {},
   "outputs": [],
   "source": [
    "class DownScale(nn.Module):\n",
    "    \"\"\"Downscaling with max pooling and doble convolution\"\"\"\n",
    "    def __init__(self, ics, ocs):\n",
    "        super().__init__()\n",
    "        self.maxconv = nn.Sequential(\n",
    "            nn.MaxPool2d(2),\n",
    "            DoubleConv(ics, ocs)\n",
    "        )\n",
    "    \n",
    "    def forward(self, x): return self.maxconv(x)\n"
   ]
  },
  {
   "cell_type": "markdown",
   "metadata": {},
   "source": [
    "<h5><b>1.3) Up Scale Convolution</b></h6>"
   ]
  },
  {
   "cell_type": "code",
   "execution_count": 14,
   "metadata": {},
   "outputs": [],
   "source": [
    "#torch based upsampling\n",
    "class UpScale(nn.Module):\n",
    "    def __init__(self, ics, ocs, bilinear=True):\n",
    "        super().__init__()\n",
    "        if bilinear:\n",
    "            self.up = nn.Upsample(scale_factor=2, mode='bilinear', align_corners=True)\n",
    "            self.conv = DoubleConv(ics, ocs, ics//2)\n",
    "        else:\n",
    "            self.up = nn.ConvTranspose2d(ics, ics//2, kernel_size=2, stride=2)\n",
    "            self.conv = DoubleConv(ics, ocs)\n",
    "    \n",
    "    def forward(self,x1,x2):\n",
    "        x1 = self.up(x1)\n",
    "        # input is CHW\n",
    "        diffY = x2.size()[2] - x1.size()[2]\n",
    "        diffX = x2.size()[3] - x1.size()[3]\n",
    "        x1 = F.pad(x1, [diffX // 2, diffX - diffX // 2,\n",
    "                        diffY // 2, diffY - diffY // 2])\n",
    "        # if you have padding issues, see\n",
    "        # https://github.com/HaiyongJiang/U-Net-Pytorch-Unstructured-Buggy/commit/0e854509c2cea854e247a9c615f175f76fbb2e3a\n",
    "        # https://github.com/xiaopeng-liao/Pytorch-UNet/commit/8ebac70e633bac59fc22bb5195e513d5832fb3bd\n",
    "        x = torch.cat([x2, x1], dim=1)\n",
    "        return self.conv(x)\n"
   ]
  },
  {
   "cell_type": "markdown",
   "metadata": {},
   "source": [
    "<h5><b>1.4) Out Convolution</b></h6>"
   ]
  },
  {
   "cell_type": "code",
   "execution_count": 5,
   "metadata": {},
   "outputs": [],
   "source": [
    "class OutConv(nn.Module):\n",
    "    def __init__(self, ics, ocs) -> None:\n",
    "        super(OutConv, self).__init__()\n",
    "        # Last 1x1 convolution\n",
    "        self.conv = nn.Conv2d(ics, ocs, kernel_size=1)\n",
    "    def forward(self, x): return self.conv(x)"
   ]
  },
  {
   "cell_type": "markdown",
   "metadata": {},
   "source": [
    "<h4><b>U-Net Construction</b></h4>"
   ]
  },
  {
   "cell_type": "code",
   "execution_count": 15,
   "metadata": {},
   "outputs": [],
   "source": [
    "class UNet(nn.Module):\n",
    "    def __init__(self, nc, ncls, bilinear=False):\n",
    "        super(UNet, self).__init__()\n",
    "        self.nc = nc # number of channels\n",
    "        self.ncls = ncls # number of classes\n",
    "        # Main models\n",
    "        self.inc = (DoubleConv(nc, 64))\n",
    "        self.down1 = (DownScale(64,128)) \n",
    "        self.down2 = (DownScale(128,256)) \n",
    "        self.down3 = (DownScale(256,512))\n",
    "        factor = 2 if bilinear else 1\n",
    "        self.down4 = (DownScale(512, 1024 // factor))\n",
    "        self.up1 = (UpScale(1024, 512 // factor, bilinear))\n",
    "        self.up2 = (UpScale(512, 256 // factor, bilinear))\n",
    "        self.up3 = (UpScale(256, 128 // factor, bilinear))\n",
    "        self.up4 = (UpScale(128, 64, bilinear))\n",
    "        self.outc = (OutConv(64, ncls))\n",
    "\n",
    "    def forward(self, x):\n",
    "        x1 = self.inc(x)\n",
    "        x2 = self.down1(x1)\n",
    "        x3 = self.down2(x2)\n",
    "        x4 = self.down3(x3)\n",
    "        x5 = self.down4(x4)\n",
    "        x = self.up1(x5, x4)\n",
    "        x = self.up2(x, x3)\n",
    "        x = self.up3(x, x2)\n",
    "        x = self.up4(x, x1)\n",
    "        logits = self.outc(x)\n",
    "        return logits\n",
    "\n"
   ]
  },
  {
   "cell_type": "code",
   "execution_count": 7,
   "metadata": {},
   "outputs": [],
   "source": [
    "path = untar_data(URLs.PETS)/'images'"
   ]
  },
  {
   "cell_type": "code",
   "execution_count": 8,
   "metadata": {},
   "outputs": [],
   "source": [
    "p = get_image_files_sorted(path)\n",
    "img = tensor(Image.open(p[0]))\n",
    "H, W, C = img.shape\n",
    "img = img.permute(2,0,1).unsqueeze(0).float()"
   ]
  },
  {
   "cell_type": "code",
   "execution_count": 9,
   "metadata": {},
   "outputs": [
    {
     "data": {
      "text/plain": [
       "torch.Size([1, 3, 400, 600])"
      ]
     },
     "execution_count": 9,
     "metadata": {},
     "output_type": "execute_result"
    }
   ],
   "source": [
    "img.shape"
   ]
  },
  {
   "cell_type": "code",
   "execution_count": 16,
   "metadata": {},
   "outputs": [
    {
     "data": {
      "text/plain": [
       "tensor([[[[ 0.3275, -0.3614,  0.0464,  ...,  0.1696,  0.4264, -0.0396],\n",
       "          [ 0.3945,  0.6337,  0.0862,  ...,  0.1472,  0.2186, -0.5170],\n",
       "          [ 0.6860,  0.3366,  0.4820,  ...,  0.2100,  0.5643, -0.0712],\n",
       "          ...,\n",
       "          [ 0.4541,  0.0038,  0.4837,  ..., -0.2348,  0.5824, -0.5123],\n",
       "          [ 0.3414, -0.1465,  0.3276,  ..., -0.0782,  0.3636, -0.3238],\n",
       "          [ 0.2112,  0.1453,  0.3182,  ..., -0.0858,  0.3465, -0.0974]]]], grad_fn=<ConvolutionBackward0>)"
      ]
     },
     "execution_count": 16,
     "metadata": {},
     "output_type": "execute_result"
    }
   ],
   "source": [
    "unet = UNet(C, 1)\n",
    "x = unet(img)\n",
    "x"
   ]
  },
  {
   "cell_type": "code",
   "execution_count": 18,
   "metadata": {},
   "outputs": [
    {
     "data": {
      "text/plain": [
       "torch.Size([1, 1, 400, 600])"
      ]
     },
     "execution_count": 18,
     "metadata": {},
     "output_type": "execute_result"
    }
   ],
   "source": [
    "x.shape"
   ]
  }
 ],
 "metadata": {
  "kernelspec": {
   "display_name": "base",
   "language": "python",
   "name": "python3"
  },
  "language_info": {
   "codemirror_mode": {
    "name": "ipython",
    "version": 3
   },
   "file_extension": ".py",
   "mimetype": "text/x-python",
   "name": "python",
   "nbconvert_exporter": "python",
   "pygments_lexer": "ipython3",
   "version": "3.9.12"
  },
  "orig_nbformat": 4
 },
 "nbformat": 4,
 "nbformat_minor": 2
}
